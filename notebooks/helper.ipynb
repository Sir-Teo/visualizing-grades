{
 "cells": [
  {
   "cell_type": "code",
   "execution_count": 2,
   "metadata": {},
   "outputs": [],
   "source": [
    "import pandas as pd\n",
    "import numpy as np"
   ]
  },
  {
   "cell_type": "code",
   "execution_count": 3,
   "metadata": {},
   "outputs": [
    {
     "data": {
      "text/html": [
       "<div>\n",
       "<style scoped>\n",
       "    .dataframe tbody tr th:only-of-type {\n",
       "        vertical-align: middle;\n",
       "    }\n",
       "\n",
       "    .dataframe tbody tr th {\n",
       "        vertical-align: top;\n",
       "    }\n",
       "\n",
       "    .dataframe thead th {\n",
       "        text-align: right;\n",
       "    }\n",
       "</style>\n",
       "<table border=\"1\" class=\"dataframe\">\n",
       "  <thead>\n",
       "    <tr style=\"text-align: right;\">\n",
       "      <th></th>\n",
       "      <th>Quarter</th>\n",
       "      <th>Course_Level</th>\n",
       "      <th>Course</th>\n",
       "      <th>Instructor</th>\n",
       "      <th>Department</th>\n",
       "      <th>Course_Number</th>\n",
       "    </tr>\n",
       "  </thead>\n",
       "  <tbody>\n",
       "    <tr>\n",
       "      <th>0</th>\n",
       "      <td>S22</td>\n",
       "      <td>Undergraduate</td>\n",
       "      <td>ANTH      2</td>\n",
       "      <td>WALSH C</td>\n",
       "      <td>ANTH</td>\n",
       "      <td>2</td>\n",
       "    </tr>\n",
       "    <tr>\n",
       "      <th>13</th>\n",
       "      <td>S22</td>\n",
       "      <td>Undergraduate</td>\n",
       "      <td>ANTH      3</td>\n",
       "      <td>KENNETT D J</td>\n",
       "      <td>ANTH</td>\n",
       "      <td>3</td>\n",
       "    </tr>\n",
       "    <tr>\n",
       "      <th>26</th>\n",
       "      <td>S22</td>\n",
       "      <td>Undergraduate</td>\n",
       "      <td>ANTH      7</td>\n",
       "      <td>DAVISON R J</td>\n",
       "      <td>ANTH</td>\n",
       "      <td>7</td>\n",
       "    </tr>\n",
       "    <tr>\n",
       "      <th>36</th>\n",
       "      <td>S22</td>\n",
       "      <td>Undergraduate</td>\n",
       "      <td>ANTH    103B</td>\n",
       "      <td>WERTH S</td>\n",
       "      <td>ANTH</td>\n",
       "      <td>103B</td>\n",
       "    </tr>\n",
       "    <tr>\n",
       "      <th>46</th>\n",
       "      <td>S22</td>\n",
       "      <td>Undergraduate</td>\n",
       "      <td>ANTH    123MG</td>\n",
       "      <td>THOMPSON GONZ</td>\n",
       "      <td>ANTH</td>\n",
       "      <td>123MG</td>\n",
       "    </tr>\n",
       "  </tbody>\n",
       "</table>\n",
       "</div>"
      ],
      "text/plain": [
       "   Quarter   Course_Level         Course     Instructor Department  \\\n",
       "0      S22  Undergraduate    ANTH      2        WALSH C       ANTH   \n",
       "13     S22  Undergraduate    ANTH      3    KENNETT D J       ANTH   \n",
       "26     S22  Undergraduate    ANTH      7    DAVISON R J       ANTH   \n",
       "36     S22  Undergraduate   ANTH    103B        WERTH S       ANTH   \n",
       "46     S22  Undergraduate  ANTH    123MG  THOMPSON GONZ       ANTH   \n",
       "\n",
       "   Course_Number  \n",
       "0              2  \n",
       "13             3  \n",
       "26             7  \n",
       "36          103B  \n",
       "46         123MG  "
      ]
     },
     "execution_count": 3,
     "metadata": {},
     "output_type": "execute_result"
    }
   ],
   "source": [
    "grades = pd.read_csv(\"../grades2.csv\")\n",
    "grades = grades.drop(\"Grade_Given\",axis = 1)\n",
    "grades = grades.drop(\"Sum_of_Student_Count\",axis = 1)\n",
    "grades = grades.drop_duplicates()\n",
    "grades.head()"
   ]
  },
  {
   "cell_type": "code",
   "execution_count": 4,
   "metadata": {},
   "outputs": [],
   "source": [
    "grades.to_json(\"courses.json\",orient = \"records\")"
   ]
  },
  {
   "cell_type": "code",
   "execution_count": 3,
   "metadata": {},
   "outputs": [],
   "source": [
    "grades = pd.read_csv(\"../grades.csv\")\n",
    "instructor_list = grades[\"Instructor\"].unique()\n",
    "quarter_list = grades[\"Quarter\"].unique()\n",
    "course_level_list = grades[\"Course_Level\"].unique()\n",
    "course_list = grades[\"Course\"].unique()"
   ]
  },
  {
   "cell_type": "code",
   "execution_count": 14,
   "metadata": {},
   "outputs": [
    {
     "name": "stdout",
     "output_type": "stream",
     "text": [
      "<option value = \"ANTH \"> ANTH  </option>\n",
      "<option value = \"ART  \"> ART   </option>\n",
      "<option value = \"ARTHI\"> ARTHI </option>\n",
      "<option value = \"ARTST\"> ARTST </option>\n",
      "<option value = \"AS AM\"> AS AM </option>\n",
      "<option value = \"ASTRO\"> ASTRO </option>\n",
      "<option value = \"BIOL \"> BIOL  </option>\n",
      "<option value = \"BL ST\"> BL ST </option>\n",
      "<option value = \"BMSE \"> BMSE  </option>\n",
      "<option value = \"C LIT\"> C LIT </option>\n",
      "<option value = \"CH E \"> CH E  </option>\n",
      "<option value = \"CH ST\"> CH ST </option>\n",
      "<option value = \"CHEM \"> CHEM  </option>\n",
      "<option value = \"CHIN \"> CHIN  </option>\n",
      "<option value = \"CLASS\"> CLASS </option>\n",
      "<option value = \"CMPSC\"> CMPSC </option>\n",
      "<option value = \"CMPTG\"> CMPTG </option>\n",
      "<option value = \"CNCSP\"> CNCSP </option>\n",
      "<option value = \"COMM \"> COMM  </option>\n",
      "<option value = \"DANCE\"> DANCE </option>\n",
      "<option value = \"DYNS \"> DYNS  </option>\n",
      "<option value = \"EACS \"> EACS  </option>\n",
      "<option value = \"EARTH\"> EARTH </option>\n",
      "<option value = \"ECE  \"> ECE   </option>\n",
      "<option value = \"ECON \"> ECON  </option>\n",
      "<option value = \"ED   \"> ED    </option>\n",
      "<option value = \"EDS  \"> EDS   </option>\n",
      "<option value = \"EEMB \"> EEMB  </option>\n",
      "<option value = \"ENGL \"> ENGL  </option>\n",
      "<option value = \"ENGR \"> ENGR  </option>\n",
      "<option value = \"ENV S\"> ENV S </option>\n",
      "<option value = \"ES   \"> ES    </option>\n",
      "<option value = \"ESM  \"> ESM   </option>\n",
      "<option value = \"ESS  \"> ESS   </option>\n",
      "<option value = \"FAMST\"> FAMST </option>\n",
      "<option value = \"FEMST\"> FEMST </option>\n",
      "<option value = \"FLMST\"> FLMST </option>\n",
      "<option value = \"FR   \"> FR    </option>\n",
      "<option value = \"GEOG \"> GEOG  </option>\n",
      "<option value = \"GEOL \"> GEOL  </option>\n",
      "<option value = \"GER  \"> GER   </option>\n",
      "<option value = \"GLOBL\"> GLOBL </option>\n",
      "<option value = \"GPS  \"> GPS   </option>\n",
      "<option value = \"GRAD \"> GRAD  </option>\n",
      "<option value = \"GREEK\"> GREEK </option>\n",
      "<option value = \"HEB  \"> HEB   </option>\n",
      "<option value = \"HIST \"> HIST  </option>\n",
      "<option value = \"INT  \"> INT   </option>\n",
      "<option value = \"ITAL \"> ITAL  </option>\n",
      "<option value = \"JAPAN\"> JAPAN </option>\n",
      "<option value = \"KOR  \"> KOR   </option>\n",
      "<option value = \"LAIS \"> LAIS  </option>\n",
      "<option value = \"LATIN\"> LATIN </option>\n",
      "<option value = \"LAWSO\"> LAWSO </option>\n",
      "<option value = \"LING \"> LING  </option>\n",
      "<option value = \"LIT  \"> LIT   </option>\n",
      "<option value = \"MARSC\"> MARSC </option>\n",
      "<option value = \"MAT  \"> MAT   </option>\n",
      "<option value = \"MATH \"> MATH  </option>\n",
      "<option value = \"MATRL\"> MATRL </option>\n",
      "<option value = \"MCDB \"> MCDB  </option>\n",
      "<option value = \"ME   \"> ME    </option>\n",
      "<option value = \"ME ST\"> ME ST </option>\n",
      "<option value = \"MES  \"> MES   </option>\n",
      "<option value = \"MS   \"> MS    </option>\n",
      "<option value = \"MUS  \"> MUS   </option>\n",
      "<option value = \"MUS A\"> MUS A </option>\n",
      "<option value = \"PHIL \"> PHIL  </option>\n",
      "<option value = \"PHYS \"> PHYS  </option>\n",
      "<option value = \"POL S\"> POL S </option>\n",
      "<option value = \"PORT \"> PORT  </option>\n",
      "<option value = \"PSTAT\"> PSTAT </option>\n",
      "<option value = \"PSY  \"> PSY   </option>\n",
      "<option value = \"RG ST\"> RG ST </option>\n",
      "<option value = \"RUSS \"> RUSS  </option>\n",
      "<option value = \"SHS  \"> SHS   </option>\n",
      "<option value = \"SLAV \"> SLAV  </option>\n",
      "<option value = \"SOC  \"> SOC   </option>\n",
      "<option value = \"SPAN \"> SPAN  </option>\n",
      "<option value = \"THTR \"> THTR  </option>\n",
      "<option value = \"TMP  \"> TMP   </option>\n",
      "<option value = \"W&L  \"> W&L   </option>\n",
      "<option value = \"WRIT \"> WRIT  </option>\n"
     ]
    }
   ],
   "source": [
    "dept_list = np.unique([course[0:5] for course in course_list])\n",
    "for d in dept_list:\n",
    "    print(\"<option value = \\\"{0}\\\"> {0} </option>\".format(d))"
   ]
  },
  {
   "cell_type": "code",
   "execution_count": 10,
   "metadata": {},
   "outputs": [],
   "source": [
    "grades = pd.read_csv(\"../grades.csv\")\n",
    "grades[\"Dept\"] = [x[:5].strip() for x in grades['Course']]\n",
    "grades[\"Course_Number\"] = [x[5:].strip() for x in grades['Course']]\n",
    "grades.to_csv(\"../grades2.csv\",index = False)"
   ]
  },
  {
   "cell_type": "code",
   "execution_count": null,
   "metadata": {},
   "outputs": [],
   "source": []
  }
 ],
 "metadata": {
  "kernelspec": {
   "display_name": "Python 3.9.12 ('base')",
   "language": "python",
   "name": "python3"
  },
  "language_info": {
   "codemirror_mode": {
    "name": "ipython",
    "version": 3
   },
   "file_extension": ".py",
   "mimetype": "text/x-python",
   "name": "python",
   "nbconvert_exporter": "python",
   "pygments_lexer": "ipython3",
   "version": "3.9.12"
  },
  "orig_nbformat": 4,
  "vscode": {
   "interpreter": {
    "hash": "ff12dd1d8f48a86eddef711a749d9b6d2f3cc74d8c80b1e00ec129687673f4d9"
   }
  }
 },
 "nbformat": 4,
 "nbformat_minor": 2
}
