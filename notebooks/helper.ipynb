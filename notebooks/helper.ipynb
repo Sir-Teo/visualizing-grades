{
 "cells": [
  {
   "cell_type": "code",
   "execution_count": 2,
   "metadata": {},
   "outputs": [],
   "source": [
    "import pandas as pd"
   ]
  },
  {
   "cell_type": "code",
   "execution_count": 3,
   "metadata": {},
   "outputs": [
    {
     "data": {
      "text/html": [
       "<div>\n",
       "<style scoped>\n",
       "    .dataframe tbody tr th:only-of-type {\n",
       "        vertical-align: middle;\n",
       "    }\n",
       "\n",
       "    .dataframe tbody tr th {\n",
       "        vertical-align: top;\n",
       "    }\n",
       "\n",
       "    .dataframe thead th {\n",
       "        text-align: right;\n",
       "    }\n",
       "</style>\n",
       "<table border=\"1\" class=\"dataframe\">\n",
       "  <thead>\n",
       "    <tr style=\"text-align: right;\">\n",
       "      <th></th>\n",
       "      <th>Quarter</th>\n",
       "      <th>Course_Level</th>\n",
       "      <th>Course</th>\n",
       "      <th>Instructor</th>\n",
       "    </tr>\n",
       "  </thead>\n",
       "  <tbody>\n",
       "    <tr>\n",
       "      <th>0</th>\n",
       "      <td>S22</td>\n",
       "      <td>Undergraduate</td>\n",
       "      <td>ANTH      2</td>\n",
       "      <td>WALSH C</td>\n",
       "    </tr>\n",
       "    <tr>\n",
       "      <th>13</th>\n",
       "      <td>S22</td>\n",
       "      <td>Undergraduate</td>\n",
       "      <td>ANTH      3</td>\n",
       "      <td>KENNETT D J</td>\n",
       "    </tr>\n",
       "    <tr>\n",
       "      <th>26</th>\n",
       "      <td>S22</td>\n",
       "      <td>Undergraduate</td>\n",
       "      <td>ANTH      7</td>\n",
       "      <td>DAVISON R J</td>\n",
       "    </tr>\n",
       "    <tr>\n",
       "      <th>36</th>\n",
       "      <td>S22</td>\n",
       "      <td>Undergraduate</td>\n",
       "      <td>ANTH    103B</td>\n",
       "      <td>WERTH S</td>\n",
       "    </tr>\n",
       "    <tr>\n",
       "      <th>46</th>\n",
       "      <td>S22</td>\n",
       "      <td>Undergraduate</td>\n",
       "      <td>ANTH    123MG</td>\n",
       "      <td>THOMPSON GONZ</td>\n",
       "    </tr>\n",
       "  </tbody>\n",
       "</table>\n",
       "</div>"
      ],
      "text/plain": [
       "   Quarter   Course_Level         Course     Instructor\n",
       "0      S22  Undergraduate    ANTH      2        WALSH C\n",
       "13     S22  Undergraduate    ANTH      3    KENNETT D J\n",
       "26     S22  Undergraduate    ANTH      7    DAVISON R J\n",
       "36     S22  Undergraduate   ANTH    103B        WERTH S\n",
       "46     S22  Undergraduate  ANTH    123MG  THOMPSON GONZ"
      ]
     },
     "execution_count": 3,
     "metadata": {},
     "output_type": "execute_result"
    }
   ],
   "source": [
    "grades = pd.read_csv(\"grades.csv\")\n",
    "grades = grades.drop(\"Grade_Given\",axis = 1)\n",
    "grades = grades.drop(\"Sum_of_Student_Count\",axis = 1)\n",
    "grades = grades.drop_duplicates()\n",
    "grades.head()"
   ]
  },
  {
   "cell_type": "code",
   "execution_count": 4,
   "metadata": {},
   "outputs": [],
   "source": [
    "grades.to_json(\"courses.json\",orient = \"records\")"
   ]
  },
  {
   "cell_type": "code",
   "execution_count": null,
   "metadata": {},
   "outputs": [],
   "source": []
  }
 ],
 "metadata": {
  "kernelspec": {
   "display_name": "Python 3.9.12 ('base')",
   "language": "python",
   "name": "python3"
  },
  "language_info": {
   "codemirror_mode": {
    "name": "ipython",
    "version": 3
   },
   "file_extension": ".py",
   "mimetype": "text/x-python",
   "name": "python",
   "nbconvert_exporter": "python",
   "pygments_lexer": "ipython3",
   "version": "3.9.12"
  },
  "orig_nbformat": 4,
  "vscode": {
   "interpreter": {
    "hash": "ff12dd1d8f48a86eddef711a749d9b6d2f3cc74d8c80b1e00ec129687673f4d9"
   }
  }
 },
 "nbformat": 4,
 "nbformat_minor": 2
}
