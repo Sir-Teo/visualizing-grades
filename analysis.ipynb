{
 "cells": [
  {
   "cell_type": "markdown",
   "metadata": {},
   "source": [
    "# Visualizing Grades Analysis\n",
    "Teo Zeng"
   ]
  },
  {
   "cell_type": "code",
   "execution_count": 31,
   "metadata": {},
   "outputs": [],
   "source": [
    "import pandas as pd\n",
    "import numpy as np\n",
    "import matplotlib.pyplot as plt"
   ]
  },
  {
   "cell_type": "code",
   "execution_count": 14,
   "metadata": {},
   "outputs": [
    {
     "data": {
      "text/plain": [
       "Index(['Quarter', 'Course_Level', 'Course', 'Instructor', 'Grade_Given',\n",
       "       'Sum_of_Student_Count'],\n",
       "      dtype='object')"
      ]
     },
     "execution_count": 14,
     "metadata": {},
     "output_type": "execute_result"
    }
   ],
   "source": [
    "grades = pd.read_csv(\"grades.csv\")\n",
    "grades.columns"
   ]
  },
  {
   "cell_type": "markdown",
   "metadata": {},
   "source": [
    "Finding unique values in a column"
   ]
  },
  {
   "cell_type": "code",
   "execution_count": 12,
   "metadata": {},
   "outputs": [],
   "source": [
    "instructor_list = grades[\"Instructor\"].unique()\n",
    "quarter_list = grades[\"Quarter\"].unique()\n",
    "course_level_list = grades[\"Course_Level\"].unique()\n",
    "course_list = grades[\"Course\"].unique()"
   ]
  },
  {
   "cell_type": "markdown",
   "metadata": {},
   "source": [
    "What professor most likely to give A's? We consider A,A-,A+ are all A's."
   ]
  },
  {
   "cell_type": "code",
   "execution_count": 30,
   "metadata": {},
   "outputs": [],
   "source": [
    "rate = {}\n",
    "for instructor in instructor_list:\n",
    "    df = grades.loc[grades['Instructor'] == instructor]\n",
    "    total_students = sum(df[\"Sum_of_Student_Count\"])\n",
    "    if total_students == 0:\n",
    "        rate[instructor] = 0\n",
    "        continue\n",
    "    df_A = df.loc[(df['Grade_Given'] == \"A\") | (df['Grade_Given'] == \"A-\") | (df['Grade_Given'] == \"A+\")]\n",
    "    number_of_A_students = sum(df_A[\"Sum_of_Student_Count\"])\n",
    "    rate[instructor] = number_of_A_students / total_students\n",
    "sorted_rate = dict(sorted(rate.items(), key=lambda x: x[1], reverse=True))"
   ]
  },
  {
   "cell_type": "code",
   "execution_count": 33,
   "metadata": {},
   "outputs": [
    {
     "data": {
      "image/png": "[encoded data removed]",
      "text/plain": [
       "<Figure size 432x288 with 1 Axes>"
      ]
     },
     "metadata": {
      "needs_background": "light"
     },
     "output_type": "display_data"
    }
   ],
   "source": [
    "plt.bar(range(len(sorted_rate)), list(sorted_rate.values()), align='center')\n",
    "plt.xticks(range(len(sorted_rate)), list(sorted_rate.keys()))\n",
    "plt.title(\"A rate for all instructors\")\n",
    "plt.show()"
   ]
  },
  {
   "cell_type": "code",
   "execution_count": null,
   "metadata": {},
   "outputs": [],
   "source": []
  }
 ],
 "metadata": {
  "kernelspec": {
   "display_name": "Python 3.9.12 ('base')",
   "language": "python",
   "name": "python3"
  },
  "language_info": {
   "codemirror_mode": {
    "name": "ipython",
    "version": 3
   },
   "file_extension": ".py",
   "mimetype": "text/x-python",
   "name": "python",
   "nbconvert_exporter": "python",
   "pygments_lexer": "ipython3",
   "version": "3.9.12"
  },
  "orig_nbformat": 4,
  "vscode": {
   "interpreter": {
    "hash": "ff12dd1d8f48a86eddef711a749d9b6d2f3cc74d8c80b1e00ec129687673f4d9"
   }
  }
 },
 "nbformat": 4,
 "nbformat_minor": 2
}
